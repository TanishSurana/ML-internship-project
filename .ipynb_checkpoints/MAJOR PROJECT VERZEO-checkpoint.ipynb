{
 "cells": [
  {
   "cell_type": "code",
   "execution_count": 1,
   "metadata": {},
   "outputs": [],
   "source": [
    "import pandas as pd\n",
    "import numpy as np"
   ]
  },
  {
   "cell_type": "code",
   "execution_count": 2,
   "metadata": {},
   "outputs": [
    {
     "name": "stdout",
     "output_type": "stream",
     "text": [
      "(6019, 12)\n"
     ]
    }
   ],
   "source": [
    "train=pd.read_excel(\"Data_Train (1).xlsx\")\n",
    "test=pd.read_excel(\"Data_Test (1).xlsx\")\n",
    "print(train.shape)"
   ]
  },
  {
   "cell_type": "code",
   "execution_count": 3,
   "metadata": {},
   "outputs": [
    {
     "name": "stdout",
     "output_type": "stream",
     "text": [
      "      Year  Kilometers_Driven  Seats  Price\n",
      "0     2010              72000    5.0   1.75\n",
      "1     2015              41000    5.0  12.50\n",
      "2     2011              46000    5.0   4.50\n",
      "3     2012              87000    7.0   6.00\n",
      "4     2013              40670    5.0  17.74\n",
      "...    ...                ...    ...    ...\n",
      "1229  2011              89411    5.0    NaN\n",
      "1230  2015              59000    5.0    NaN\n",
      "1231  2012              28000    5.0    NaN\n",
      "1232  2013              52262    5.0    NaN\n",
      "1233  2014              72443    5.0    NaN\n",
      "\n",
      "[7253 rows x 4 columns]\n",
      "                                                   Name    Location Fuel_Type  \\\n",
      "0                                Maruti Wagon R LXI CNG      Mumbai       CNG   \n",
      "1                      Hyundai Creta 1.6 CRDi SX Option        Pune    Diesel   \n",
      "2                                          Honda Jazz V     Chennai    Petrol   \n",
      "3                                     Maruti Ertiga VDI     Chennai    Diesel   \n",
      "4                       Audi A4 New 2.0 TDI Multitronic  Coimbatore    Diesel   \n",
      "...                                                 ...         ...       ...   \n",
      "1229                  Volkswagen Vento Diesel Trendline   Hyderabad    Diesel   \n",
      "1230                             Volkswagen Polo GT TSI      Mumbai    Petrol   \n",
      "1231                             Nissan Micra Diesel XV     Kolkata    Diesel   \n",
      "1232                             Volkswagen Polo GT TSI        Pune    Petrol   \n",
      "1233  Mercedes-Benz E-Class 2009-2013 E 220 CDI Avan...       Kochi    Diesel   \n",
      "\n",
      "     Transmission Owner_Type     Mileage   Engine      Power  \n",
      "0          Manual      First  26.6 km/kg   998 CC  58.16 bhp  \n",
      "1          Manual      First  19.67 kmpl  1582 CC  126.2 bhp  \n",
      "2          Manual      First   18.2 kmpl  1199 CC   88.7 bhp  \n",
      "3          Manual      First  20.77 kmpl  1248 CC  88.76 bhp  \n",
      "4       Automatic     Second   15.2 kmpl  1968 CC  140.8 bhp  \n",
      "...           ...        ...         ...      ...        ...  \n",
      "1229       Manual      First  20.54 kmpl  1598 CC  103.6 bhp  \n",
      "1230    Automatic      First  17.21 kmpl  1197 CC  103.6 bhp  \n",
      "1231       Manual      First  23.08 kmpl  1461 CC   63.1 bhp  \n",
      "1232    Automatic      Third   17.2 kmpl  1197 CC  103.6 bhp  \n",
      "1233    Automatic      First   10.0 kmpl  2148 CC    170 bhp  \n",
      "\n",
      "[7253 rows x 8 columns]\n"
     ]
    }
   ],
   "source": [
    "df=train\n",
    "num=df.select_dtypes(include=np.number)\n",
    "cat=df.select_dtypes(exclude=np.number)\n",
    "\n",
    "print(num)\n",
    "print(cat)"
   ]
  },
  {
   "cell_type": "code",
   "execution_count": 4,
   "metadata": {},
   "outputs": [
    {
     "name": "stderr",
     "output_type": "stream",
     "text": [
      "C:\\Users\\Admin\\anaconda3\\lib\\site-packages\\pandas\\core\\generic.py:6245: SettingWithCopyWarning: \n",
      "A value is trying to be set on a copy of a slice from a DataFrame\n",
      "\n",
      "See the caveats in the documentation: https://pandas.pydata.org/pandas-docs/stable/user_guide/indexing.html#returning-a-view-versus-a-copy\n",
      "  self._update_inplace(new_data)\n",
      "C:\\Users\\Admin\\anaconda3\\lib\\site-packages\\pandas\\core\\frame.py:4153: SettingWithCopyWarning: \n",
      "A value is trying to be set on a copy of a slice from a DataFrame\n",
      "\n",
      "See the caveats in the documentation: https://pandas.pydata.org/pandas-docs/stable/user_guide/indexing.html#returning-a-view-versus-a-copy\n",
      "  downcast=downcast,\n"
     ]
    }
   ],
   "source": [
    "num['Seats'].fillna(5,inplace=True)\n",
    "num['Price'].fillna(0,inplace=True)\n",
    "num.fillna(0,inplace=True)"
   ]
  },
  {
   "cell_type": "code",
   "execution_count": 14,
   "metadata": {},
   "outputs": [
    {
     "name": "stdout",
     "output_type": "stream",
     "text": [
      "[['Maruti Wagon R LXI CNG' 'Mumbai' 'CNG' ... '26.6 km/kg' '998 CC'\n",
      "  '58.16 bhp']\n",
      " ['Hyundai Creta 1.6 CRDi SX Option' 'Pune' 'Diesel' ... '19.67 kmpl'\n",
      "  '1582 CC' '126.2 bhp']\n",
      " ['Honda Jazz V' 'Chennai' 'Petrol' ... '18.2 kmpl' '1199 CC' '88.7 bhp']\n",
      " ...\n",
      " ['Nissan Micra Diesel XV' 'Kolkata' 'Diesel' ... '23.08 kmpl' '1461 CC'\n",
      "  '63.1 bhp']\n",
      " ['Volkswagen Polo GT TSI' 'Pune' 'Petrol' ... '17.2 kmpl' '1197 CC'\n",
      "  '103.6 bhp']\n",
      " ['Mercedes-Benz E-Class 2009-2013 E 220 CDI Avantgarde' 'Kochi' 'Diesel'\n",
      "  ... '10.0 kmpl' '2148 CC' '170 bhp']]\n"
     ]
    }
   ],
   "source": [
    "from sklearn.impute import SimpleImputer\n",
    "imp =SimpleImputer(missing_values=np.nan, strategy='most_frequent').fit(cat)\n",
    "cat1=imp.transform(cat)\n",
    "print(cat1)"
   ]
  },
  {
   "cell_type": "code",
   "execution_count": 6,
   "metadata": {},
   "outputs": [],
   "source": [
    "cat2=pd.DataFrame(cat1)\n",
    "cat2.columns=cat.columns\n",
    "cat2.isnull().sum()\n",
    "cat2=pd.get_dummies(cat2)"
   ]
  },
  {
   "cell_type": "code",
   "execution_count": 7,
   "metadata": {},
   "outputs": [],
   "source": [
    "d=num.reset_index(drop=True).merge(cat2.reset_index(drop=True), left_index=True, right_index=True)"
   ]
  },
  {
   "cell_type": "code",
   "execution_count": 8,
   "metadata": {},
   "outputs": [],
   "source": [
    "train_dataset =d.iloc[:6019,:]\n",
    "test_dataset =d.iloc[6019:,:]"
   ]
  },
  {
   "cell_type": "code",
   "execution_count": 9,
   "metadata": {},
   "outputs": [],
   "source": [
    "import xgboost\n",
    "from xgboost import plot_importance\n",
    "model = xgboost.XGBRegressor(colsample_bytree=0.4,\n",
    "                 gamma=0,                 \n",
    "                 learning_rate=0.07,\n",
    "                 max_depth=3,\n",
    "                 min_child_weight=1.5,\n",
    "                 n_estimators=10000,                                                                    \n",
    "                 reg_alpha=0.75,\n",
    "                 reg_lambda=0.45,\n",
    "                 subsample=0.6,\n",
    "                 seed=42) \n"
   ]
  },
  {
   "cell_type": "code",
   "execution_count": 10,
   "metadata": {},
   "outputs": [
    {
     "data": {
      "text/plain": [
       "XGBRegressor(base_score=0.5, booster='gbtree', colsample_bylevel=1,\n",
       "             colsample_bynode=1, colsample_bytree=0.4, gamma=0, gpu_id=-1,\n",
       "             importance_type='gain', interaction_constraints='',\n",
       "             learning_rate=0.07, max_delta_step=0, max_depth=3,\n",
       "             min_child_weight=1.5, missing=nan, monotone_constraints='()',\n",
       "             n_estimators=10000, n_jobs=0, num_parallel_tree=1,\n",
       "             objective='reg:squarederror', random_state=42, reg_alpha=0.75,\n",
       "             reg_lambda=0.45, scale_pos_weight=1, seed=42, subsample=0.6,\n",
       "             tree_method='exact', validate_parameters=1, verbosity=None)"
      ]
     },
     "execution_count": 10,
     "metadata": {},
     "output_type": "execute_result"
    }
   ],
   "source": [
    "every_column_except_y= [col for col in train_dataset.columns if col not in ['Price']]\n",
    "model.fit(train_dataset[every_column_except_y],train_dataset['Price'])"
   ]
  },
  {
   "cell_type": "code",
   "execution_count": 11,
   "metadata": {},
   "outputs": [
    {
     "name": "stdout",
     "output_type": "stream",
     "text": [
      "['Transmission_Automatic', 'Seats', 'Fuel_Type_Diesel', 'Engine_2982 CC', 'Power_258 bhp', 'Fuel_Type_Petrol', 'Kilometers_Driven', 'Transmission_Manual', 'Power_320 bhp', 'Year', 'Engine_2993 CC', 'Engine_2987 CC', 'Engine_1995 CC', 'Location_Coimbatore', 'Power_255 bhp', 'Engine_5461 CC', 'Mileage_12.05 kmpl', 'Engine_1248 CC', 'Engine_2967 CC', 'Location_Hyderabad', 'Name_Porsche Panamera Diesel', 'Mileage_13.68 kmpl', 'Engine_1197 CC', 'Power_308 bhp', 'Power_170 bhp', 'Engine_2143 CC', 'Name_Mercedes-Benz GLE 350d', 'Engine_624 CC', 'Engine_796 CC', 'Name_Mercedes-Benz GLE 250d', 'Engine_4367 CC', 'Mileage_10.2 kmpl', 'Owner_Type_First', 'Engine_2996 CC', 'Engine_1950 CC', 'Power_174.5 bhp', 'Power_187.7 bhp', 'Mileage_15.97 kmpl', 'Engine_1582 CC', 'Mileage_15.8 kmpl', 'Location_Chennai', 'Mileage_16.36 kmpl', 'Engine_1998 CC', 'Engine_2755 CC', 'Mileage_14.75 kmpl', 'Power_245 bhp', 'Name_BMW 7 Series 740Li', 'Engine_4134 CC', 'Engine_5000 CC', 'Mileage_11.57 kmpl', 'Engine_1999 CC', 'Power_394.3 bhp', 'Power_null bhp', 'Mileage_9.0 kmpl', 'Name_Mercedes-Benz E-Class E 220 d', 'Power_136 bhp', 'Mileage_14.16 kmpl', 'Engine_4806 CC', 'Mileage_12.07 kmpl', 'Name_Audi Q7 4.2 TDI Quattro Technology', 'Location_Kochi', 'Location_Mumbai', 'Power_335.2 bhp', 'Power_183 bhp', 'Engine_2494 CC', 'Mileage_8.6 kmpl', 'Engine_4395 CC', 'Engine_1984 CC', 'Name_Hyundai Elantra 2.0 SX Option AT', 'Mileage_13.6 kmpl', 'Name_Chevrolet Cruze LTZ AT', 'Power_218 bhp', 'Power_306 bhp', 'Name_Jaguar XF 2.2 Litre Luxury', 'Location_Delhi', 'Power_187.74 bhp', 'Name_Audi A4 35 TDI Premium Plus', 'Power_190 bhp', 'Power_241.4 bhp', 'Mileage_13.0 kmpl', 'Mileage_15.68 kmpl', 'Mileage_9.43 kmpl', 'Location_Kolkata', 'Engine_1796 CC', 'Mileage_18.0 kmpl', 'Power_203.2 bhp', 'Power_201.15 bhp', 'Name_Land Rover Discovery Sport TD4 HSE', 'Mileage_15.26 kmpl', 'Mileage_19.16 kmpl', 'Name_Mercedes-Benz M-Class ML 250 CDI', 'Power_174.3 bhp', 'Mileage_22.69 kmpl', 'Power_174.33 bhp', 'Location_Bangalore', 'Engine_1968 CC', 'Power_147.5 bhp', 'Mileage_18.12 kmpl', 'Engine_2148 CC', 'Power_88.5 bhp', 'Mileage_12.0 kmpl', 'Mileage_18.56 kmpl', 'Name_Land Rover Range Rover Evoque 2.0 TD4 HSE Dynamic', 'Power_177 bhp', 'Name_Audi Q7 3.0 TDI Quattro Technology', 'Location_Pune', 'Mileage_17.68 kmpl', 'Engine_2497 CC', 'Mileage_10.91 kmpl', 'Mileage_19.6 kmpl', 'Owner_Type_Second', 'Engine_3498 CC', 'Name_Mercedes-Benz R-Class R350 4Matic Long', 'Engine_3198 CC', 'Mileage_16.09 kmpl', 'Power_300 bhp', 'Mileage_14.24 kmpl', 'Power_167.62 bhp', 'Mileage_18.53 kmpl', 'Name_Mercedes-Benz E-Class 2015-2017 E350 CDI Avantgrade', 'Mileage_11.7 kmpl', 'Power_186 bhp', 'Engine_2198 CC', 'Mileage_14.94 kmpl', 'Name_BMW 3 Series 320d Luxury Line', 'Power_177.46 bhp', 'Power_181 bhp', 'Engine_1497 CC', 'Location_Jaipur', 'Engine_1798 CC', 'Name_BMW X3 xDrive20d', 'Name_BMW 5 Series 2013-2017 530d M Sport', 'Power_204 bhp', 'Mileage_0.0 kmpl', 'Name_Mahindra Ssangyong Rexton RX7', 'Mileage_13.5 kmpl', 'Name_Audi Q7 3.0 TDI Quattro Premium Plus', 'Engine_799 CC', 'Name_BMW 5 Series 525d Sedan', 'Power_184 bhp', 'Power_313 bhp', 'Power_254.8 bhp', 'Mileage_11.8 kmpl', 'Mileage_16.46 kmpl', 'Name_Audi Q5 2008-2012 2.0 TDI', 'Location_Ahmedabad', 'Mileage_22.48 kmpl', 'Engine_2400 CC', 'Name_Volkswagen Polo GTI', 'Mileage_17.9 kmpl', 'Engine_2179 CC', 'Name_BMW 7 Series 730Ld', 'Power_167.6 bhp', 'Power_74 bhp', 'Mileage_17.85 kmpl', 'Mileage_18.49 kmpl', 'Mileage_12.65 kmpl', 'Mileage_10.5 kmpl', 'Power_147.51 bhp', 'Power_215 bhp', 'Power_140 bhp', 'Mileage_10.9 kmpl', 'Mileage_11.74 kmpl', 'Engine_1991 CC', 'Mileage_11.1 kmpl', 'Mileage_14.67 kmpl', 'Mileage_14.84 kmpl', 'Name_Land Rover Range Rover 3.0 D', 'Name_Hyundai Creta 1.6 SX Plus Petrol Automatic', 'Name_Mercedes-Benz E-Class Facelift', 'Engine_1997 CC', 'Mileage_12.3 kmpl', 'Mileage_12.7 kmpl', 'Name_Mini Cooper 5 DOOR D', 'Name_Mercedes-Benz SLC 43 AMG', 'Mileage_11.33 kmpl', 'Name_Mercedes-Benz New C-Class C 220 CDI Elegance AT', 'Name_Skoda Superb Style 1.8 TSI AT', 'Name_Toyota Fortuner 4x4 MT', 'Power_141 bhp', 'Mileage_11.5 kmpl', 'Mileage_12.55 kmpl', 'Mileage_18.48 kmpl', 'Name_Audi Q3 35 TDI Quattro Premium Plus', 'Mileage_18.25 kmpl', 'Engine_2354 CC', 'Name_Mercedes-Benz New C-Class C250 Avantgarde', 'Engine_814 CC', 'Name_Mercedes-Benz E-Class 2009-2013 E250 CDI Elegance', 'Power_203 bhp', 'Mileage_14.21 kmpl', 'Power_210 bhp', 'Engine_1595 CC', 'Owner_Type_Third', 'Name_BMW X5 xDrive 30d', 'Name_Mercedes-Benz S Class 2005 2013 S 350 CDI', 'Mileage_14.7 kmpl', 'Mileage_19.27 kmpl', 'Name_Mercedes-Benz B Class B200 CDI', 'Power_265 bhp', 'Power_154 bhp', 'Name_Mercedes-Benz New C-Class C 200 Kompressor Elegance AT', 'Name_Land Rover Range Rover Sport SE', 'Power_194 bhp', 'Name_Mercedes-Benz New C-Class C 220 CDI BE Avantgare', 'Power_254.79 bhp', 'Mileage_18.88 kmpl', 'Mileage_10.0 kmpl', 'Mileage_12.9 kmpl', 'Power_282 bhp', 'Engine_2359 CC', 'Name_Mercedes-Benz M-Class ML 350 CDI', 'Name_Mercedes-Benz New C-Class C 220 CDI Avantgarde', 'Mileage_17.2 kmpl', 'Name_Mercedes-Benz GL-Class 2007 2012 350 CDI Luxury', 'Name_Audi A4 2.0 TDI Multitronic', 'Mileage_12.4 kmpl', 'Mileage_15.17 kmpl', 'Name_BMW 5 Series 520d Luxury Line', 'Mileage_13.8 kmpl', 'Mileage_14.69 kmpl', 'Name_BMW 3 Series 2005-2011 325i Sedan', 'Power_160 bhp', 'Name_Mercedes-Benz M-Class ML 350 4Matic', 'Mileage_11.2 kmpl', 'Name_Mercedes-Benz New C-Class C 200 CGI Avantgarde', 'Name_Mercedes-Benz E-Class E250 CDI Avantgrade', 'Name_BMW 3 Series 320d Highline', 'Name_Audi A6 2.7 TDI', 'Mileage_23.8 kmpl', 'Mileage_16.73 kmpl', 'Mileage_16.3 kmpl', 'Power_201.1 bhp', 'Mileage_7.94 kmpl', 'Name_Mercedes-Benz E-Class 2009-2013 E 220 CDI Avantgarde', 'Name_Hyundai Santro GLS II - Euro II', 'Name_Mercedes-Benz E-Class 2015-2017 E250 CDI Avantgarde', 'Mileage_11.9 kmpl']\n"
     ]
    }
   ],
   "source": [
    "most_relevant_features= list( dict((k, v) for k, v in model.get_booster().get_fscore().items() if v >= 20).keys())\n",
    "print(most_relevant_features)"
   ]
  },
  {
   "cell_type": "code",
   "execution_count": 12,
   "metadata": {},
   "outputs": [
    {
     "data": {
      "text/plain": [
       "XGBRegressor(base_score=0.5, booster='gbtree', colsample_bylevel=1,\n",
       "             colsample_bynode=1, colsample_bytree=0.8, gamma=0, gpu_id=-1,\n",
       "             importance_type='gain', interaction_constraints='',\n",
       "             learning_rate=0.1, max_delta_step=0, max_depth=5,\n",
       "             min_child_weight=1, missing=nan, monotone_constraints='()',\n",
       "             n_estimators=1000, n_jobs=6, nthread=6, num_parallel_tree=1,\n",
       "             objective='reg:squarederror', random_state=27, reg_alpha=0,\n",
       "             reg_lambda=1, scale_pos_weight=1, seed=27, subsample=0.8,\n",
       "             tree_method='exact', validate_parameters=1, verbosity=None)"
      ]
     },
     "execution_count": 12,
     "metadata": {},
     "output_type": "execute_result"
    }
   ],
   "source": [
    "from sklearn.model_selection import GridSearchCV \n",
    "x_train=train_dataset[most_relevant_features]\n",
    "y_train=train_dataset['Price']\n",
    "   \n",
    "xgb_model = xgboost.XGBRegressor(learning_rate =0.1, n_estimators=1000, max_depth=5,\n",
    "     min_child_weight=1, gamma=0, subsample=0.8, colsample_bytree=0.8, nthread=6, scale_pos_weight=1, seed=27)\n",
    "\n",
    "xgb_model.fit(x_train,y_train)"
   ]
  },
  {
   "cell_type": "code",
   "execution_count": 13,
   "metadata": {},
   "outputs": [
    {
     "data": {
      "text/plain": [
       "0.9850936107506733"
      ]
     },
     "execution_count": 13,
     "metadata": {},
     "output_type": "execute_result"
    }
   ],
   "source": [
    "y_pred=xgb_model.predict(x_train)\n",
    "from sklearn.metrics import r2_score\n",
    "r2_score(y_train, y_pred)"
   ]
  },
  {
   "cell_type": "code",
   "execution_count": null,
   "metadata": {},
   "outputs": [],
   "source": []
  }
 ],
 "metadata": {
  "kernelspec": {
   "display_name": "Python 3",
   "language": "python",
   "name": "python3"
  },
  "language_info": {
   "codemirror_mode": {
    "name": "ipython",
    "version": 3
   },
   "file_extension": ".py",
   "mimetype": "text/x-python",
   "name": "python",
   "nbconvert_exporter": "python",
   "pygments_lexer": "ipython3",
   "version": "3.7.6"
  }
 },
 "nbformat": 4,
 "nbformat_minor": 4
}
