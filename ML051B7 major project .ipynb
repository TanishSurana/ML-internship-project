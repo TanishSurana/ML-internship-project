{
 "cells": [
  {
   "cell_type": "markdown",
   "metadata": {},
   "source": [
    "#  <i>Major Project - ML051B7</i>\n",
    "### Problem Statement :\n",
    "#### You will be predicting the costs of used cars given the data collected from various sources and distributed across various locations in India\n",
    "### Procedure/Steps  to follow :\n",
    "- Importing the given train dataset\n",
    "- Perform data cleaning such as removing all the null values and replacing it with mean/mode of the particular attribute\n",
    "- Encoding the data into algorithm understandable format\n",
    "- Training the data with perfect algorithm\n",
    "- Importing the given test datase\n",
    "- Apply the datacleaning and encoding techniques which are applied to train dataset\n",
    "- Testing the dataset and predicting the output"
   ]
  },
  {
   "cell_type": "markdown",
   "metadata": {},
   "source": [
    "#### Importing required packages "
   ]
  },
  {
   "cell_type": "code",
   "execution_count": 1,
   "metadata": {},
   "outputs": [],
   "source": [
    "from sklearn.preprocessing import LabelEncoder\n",
    "from sklearn import preprocessing\n",
    "import matplotlib.pyplot as plt\n",
    "from pprint import pprint\n",
    "import seaborn as sns\n",
    "import pandas as pd\n",
    "import numpy as np\n",
    "import statistics\n",
    "%matplotlib inline"
   ]
  },
  {
   "cell_type": "markdown",
   "metadata": {},
   "source": [
    "#### Reading Train Data"
   ]
  },
  {
   "cell_type": "code",
   "execution_count": 2,
   "metadata": {},
   "outputs": [
    {
     "data": {
      "text/html": [
       "<div>\n",
       "<style scoped>\n",
       "    .dataframe tbody tr th:only-of-type {\n",
       "        vertical-align: middle;\n",
       "    }\n",
       "\n",
       "    .dataframe tbody tr th {\n",
       "        vertical-align: top;\n",
       "    }\n",
       "\n",
       "    .dataframe thead th {\n",
       "        text-align: right;\n",
       "    }\n",
       "</style>\n",
       "<table border=\"1\" class=\"dataframe\">\n",
       "  <thead>\n",
       "    <tr style=\"text-align: right;\">\n",
       "      <th></th>\n",
       "      <th>Name</th>\n",
       "      <th>Location</th>\n",
       "      <th>Year</th>\n",
       "      <th>Kilometers_Driven</th>\n",
       "      <th>Fuel_Type</th>\n",
       "      <th>Transmission</th>\n",
       "      <th>Owner_Type</th>\n",
       "      <th>Mileage</th>\n",
       "      <th>Engine</th>\n",
       "      <th>Power</th>\n",
       "      <th>Seats</th>\n",
       "      <th>Price</th>\n",
       "    </tr>\n",
       "  </thead>\n",
       "  <tbody>\n",
       "    <tr>\n",
       "      <th>0</th>\n",
       "      <td>Maruti Wagon R LXI CNG</td>\n",
       "      <td>Mumbai</td>\n",
       "      <td>2010</td>\n",
       "      <td>72000</td>\n",
       "      <td>CNG</td>\n",
       "      <td>Manual</td>\n",
       "      <td>First</td>\n",
       "      <td>26.6 km/kg</td>\n",
       "      <td>998 CC</td>\n",
       "      <td>58.16 bhp</td>\n",
       "      <td>5.0</td>\n",
       "      <td>1.75</td>\n",
       "    </tr>\n",
       "    <tr>\n",
       "      <th>1</th>\n",
       "      <td>Hyundai Creta 1.6 CRDi SX Option</td>\n",
       "      <td>Pune</td>\n",
       "      <td>2015</td>\n",
       "      <td>41000</td>\n",
       "      <td>Diesel</td>\n",
       "      <td>Manual</td>\n",
       "      <td>First</td>\n",
       "      <td>19.67 kmpl</td>\n",
       "      <td>1582 CC</td>\n",
       "      <td>126.2 bhp</td>\n",
       "      <td>5.0</td>\n",
       "      <td>12.50</td>\n",
       "    </tr>\n",
       "    <tr>\n",
       "      <th>2</th>\n",
       "      <td>Honda Jazz V</td>\n",
       "      <td>Chennai</td>\n",
       "      <td>2011</td>\n",
       "      <td>46000</td>\n",
       "      <td>Petrol</td>\n",
       "      <td>Manual</td>\n",
       "      <td>First</td>\n",
       "      <td>18.2 kmpl</td>\n",
       "      <td>1199 CC</td>\n",
       "      <td>88.7 bhp</td>\n",
       "      <td>5.0</td>\n",
       "      <td>4.50</td>\n",
       "    </tr>\n",
       "    <tr>\n",
       "      <th>3</th>\n",
       "      <td>Maruti Ertiga VDI</td>\n",
       "      <td>Chennai</td>\n",
       "      <td>2012</td>\n",
       "      <td>87000</td>\n",
       "      <td>Diesel</td>\n",
       "      <td>Manual</td>\n",
       "      <td>First</td>\n",
       "      <td>20.77 kmpl</td>\n",
       "      <td>1248 CC</td>\n",
       "      <td>88.76 bhp</td>\n",
       "      <td>7.0</td>\n",
       "      <td>6.00</td>\n",
       "    </tr>\n",
       "    <tr>\n",
       "      <th>4</th>\n",
       "      <td>Audi A4 New 2.0 TDI Multitronic</td>\n",
       "      <td>Coimbatore</td>\n",
       "      <td>2013</td>\n",
       "      <td>40670</td>\n",
       "      <td>Diesel</td>\n",
       "      <td>Automatic</td>\n",
       "      <td>Second</td>\n",
       "      <td>15.2 kmpl</td>\n",
       "      <td>1968 CC</td>\n",
       "      <td>140.8 bhp</td>\n",
       "      <td>5.0</td>\n",
       "      <td>17.74</td>\n",
       "    </tr>\n",
       "    <tr>\n",
       "      <th>...</th>\n",
       "      <td>...</td>\n",
       "      <td>...</td>\n",
       "      <td>...</td>\n",
       "      <td>...</td>\n",
       "      <td>...</td>\n",
       "      <td>...</td>\n",
       "      <td>...</td>\n",
       "      <td>...</td>\n",
       "      <td>...</td>\n",
       "      <td>...</td>\n",
       "      <td>...</td>\n",
       "      <td>...</td>\n",
       "    </tr>\n",
       "    <tr>\n",
       "      <th>6014</th>\n",
       "      <td>Maruti Swift VDI</td>\n",
       "      <td>Delhi</td>\n",
       "      <td>2014</td>\n",
       "      <td>27365</td>\n",
       "      <td>Diesel</td>\n",
       "      <td>Manual</td>\n",
       "      <td>First</td>\n",
       "      <td>28.4 kmpl</td>\n",
       "      <td>1248 CC</td>\n",
       "      <td>74 bhp</td>\n",
       "      <td>5.0</td>\n",
       "      <td>4.75</td>\n",
       "    </tr>\n",
       "    <tr>\n",
       "      <th>6015</th>\n",
       "      <td>Hyundai Xcent 1.1 CRDi S</td>\n",
       "      <td>Jaipur</td>\n",
       "      <td>2015</td>\n",
       "      <td>100000</td>\n",
       "      <td>Diesel</td>\n",
       "      <td>Manual</td>\n",
       "      <td>First</td>\n",
       "      <td>24.4 kmpl</td>\n",
       "      <td>1120 CC</td>\n",
       "      <td>71 bhp</td>\n",
       "      <td>5.0</td>\n",
       "      <td>4.00</td>\n",
       "    </tr>\n",
       "    <tr>\n",
       "      <th>6016</th>\n",
       "      <td>Mahindra Xylo D4 BSIV</td>\n",
       "      <td>Jaipur</td>\n",
       "      <td>2012</td>\n",
       "      <td>55000</td>\n",
       "      <td>Diesel</td>\n",
       "      <td>Manual</td>\n",
       "      <td>Second</td>\n",
       "      <td>14.0 kmpl</td>\n",
       "      <td>2498 CC</td>\n",
       "      <td>112 bhp</td>\n",
       "      <td>8.0</td>\n",
       "      <td>2.90</td>\n",
       "    </tr>\n",
       "    <tr>\n",
       "      <th>6017</th>\n",
       "      <td>Maruti Wagon R VXI</td>\n",
       "      <td>Kolkata</td>\n",
       "      <td>2013</td>\n",
       "      <td>46000</td>\n",
       "      <td>Petrol</td>\n",
       "      <td>Manual</td>\n",
       "      <td>First</td>\n",
       "      <td>18.9 kmpl</td>\n",
       "      <td>998 CC</td>\n",
       "      <td>67.1 bhp</td>\n",
       "      <td>5.0</td>\n",
       "      <td>2.65</td>\n",
       "    </tr>\n",
       "    <tr>\n",
       "      <th>6018</th>\n",
       "      <td>Chevrolet Beat Diesel</td>\n",
       "      <td>Hyderabad</td>\n",
       "      <td>2011</td>\n",
       "      <td>47000</td>\n",
       "      <td>Diesel</td>\n",
       "      <td>Manual</td>\n",
       "      <td>First</td>\n",
       "      <td>25.44 kmpl</td>\n",
       "      <td>936 CC</td>\n",
       "      <td>57.6 bhp</td>\n",
       "      <td>5.0</td>\n",
       "      <td>2.50</td>\n",
       "    </tr>\n",
       "  </tbody>\n",
       "</table>\n",
       "<p>6019 rows × 12 columns</p>\n",
       "</div>"
      ],
      "text/plain": [
       "                                  Name    Location  Year  Kilometers_Driven  \\\n",
       "0               Maruti Wagon R LXI CNG      Mumbai  2010              72000   \n",
       "1     Hyundai Creta 1.6 CRDi SX Option        Pune  2015              41000   \n",
       "2                         Honda Jazz V     Chennai  2011              46000   \n",
       "3                    Maruti Ertiga VDI     Chennai  2012              87000   \n",
       "4      Audi A4 New 2.0 TDI Multitronic  Coimbatore  2013              40670   \n",
       "...                                ...         ...   ...                ...   \n",
       "6014                  Maruti Swift VDI       Delhi  2014              27365   \n",
       "6015          Hyundai Xcent 1.1 CRDi S      Jaipur  2015             100000   \n",
       "6016             Mahindra Xylo D4 BSIV      Jaipur  2012              55000   \n",
       "6017                Maruti Wagon R VXI     Kolkata  2013              46000   \n",
       "6018             Chevrolet Beat Diesel   Hyderabad  2011              47000   \n",
       "\n",
       "     Fuel_Type Transmission Owner_Type     Mileage   Engine      Power  Seats  \\\n",
       "0          CNG       Manual      First  26.6 km/kg   998 CC  58.16 bhp    5.0   \n",
       "1       Diesel       Manual      First  19.67 kmpl  1582 CC  126.2 bhp    5.0   \n",
       "2       Petrol       Manual      First   18.2 kmpl  1199 CC   88.7 bhp    5.0   \n",
       "3       Diesel       Manual      First  20.77 kmpl  1248 CC  88.76 bhp    7.0   \n",
       "4       Diesel    Automatic     Second   15.2 kmpl  1968 CC  140.8 bhp    5.0   \n",
       "...        ...          ...        ...         ...      ...        ...    ...   \n",
       "6014    Diesel       Manual      First   28.4 kmpl  1248 CC     74 bhp    5.0   \n",
       "6015    Diesel       Manual      First   24.4 kmpl  1120 CC     71 bhp    5.0   \n",
       "6016    Diesel       Manual     Second   14.0 kmpl  2498 CC    112 bhp    8.0   \n",
       "6017    Petrol       Manual      First   18.9 kmpl   998 CC   67.1 bhp    5.0   \n",
       "6018    Diesel       Manual      First  25.44 kmpl   936 CC   57.6 bhp    5.0   \n",
       "\n",
       "      Price  \n",
       "0      1.75  \n",
       "1     12.50  \n",
       "2      4.50  \n",
       "3      6.00  \n",
       "4     17.74  \n",
       "...     ...  \n",
       "6014   4.75  \n",
       "6015   4.00  \n",
       "6016   2.90  \n",
       "6017   2.65  \n",
       "6018   2.50  \n",
       "\n",
       "[6019 rows x 12 columns]"
      ]
     },
     "execution_count": 2,
     "metadata": {},
     "output_type": "execute_result"
    }
   ],
   "source": [
    "data = pd.read_excel('Data_Train (1).xlsx')\n",
    "data"
   ]
  },
  {
   "cell_type": "markdown",
   "metadata": {},
   "source": [
    "**As you can see there are units like (km/kg,kmpl) ,CC,bhp in Mileage,Engine,Power columns respectively which are not needed at all so first we will remove them.**"
   ]
  },
  {
   "cell_type": "markdown",
   "metadata": {},
   "source": [
    "\n",
    "**DATA CLEANING**"
   ]
  },
  {
   "cell_type": "code",
   "execution_count": 3,
   "metadata": {},
   "outputs": [],
   "source": [
    "#for i in data.columns:\n",
    "#    print(i,':',data[i].nunique())\n",
    "#print('\\n')\n",
    "#print('Fuel Type :',data['Fuel_Type'].unique(),'\\n')\n",
    "#print('Transmission :',data['Transmission'].unique(),'\\n')\n",
    "#print('Year : ',np.sort(data['Year'].unique()),'\\n')\n",
    "#print('Location :',data['Location'].unique(),'\\n')"
   ]
  },
  {
   "cell_type": "code",
   "execution_count": 4,
   "metadata": {
    "scrolled": true
   },
   "outputs": [],
   "source": [
    "#print('Seat types:',np.sort(data['Seats'].unique()) ) \n",
    "#data['Seats'].value_counts()"
   ]
  },
  {
   "cell_type": "markdown",
   "metadata": {},
   "source": [
    "**1) Modifying Columns**"
   ]
  },
  {
   "cell_type": "code",
   "execution_count": 5,
   "metadata": {},
   "outputs": [],
   "source": [
    "data['Mileage']=data.Mileage.str.replace('km/kg','').str.replace('kmpl','').astype(float)\n",
    "\n",
    "data['Engine']=data.Engine.str.replace('CC','').astype(float)\n",
    "\n",
    "data['Power']=data.Power.str.replace(' bhp','')"
   ]
  },
  {
   "cell_type": "markdown",
   "metadata": {},
   "source": [
    "**2) Splitting Name column in CarName,CarBodyStyle,CarTrimLevel**"
   ]
  },
  {
   "cell_type": "code",
   "execution_count": 6,
   "metadata": {},
   "outputs": [],
   "source": [
    "CarName=data.Name.str.split(' ').apply(lambda x : x[0])\n",
    "CarBodyStyle=data.Name.str.split(' ').apply(lambda x :x[1])\n",
    "CarTrimLevel=data.Name.str.split(' ').apply(lambda x : x[2:])\n"
   ]
  },
  {
   "cell_type": "code",
   "execution_count": 7,
   "metadata": {
    "scrolled": true
   },
   "outputs": [
    {
     "data": {
      "text/plain": [
       "Index(['Location', 'Year', 'Kilometers_Driven', 'Fuel_Type', 'Transmission',\n",
       "       'Owner_Type', 'Mileage', 'Engine', 'Power', 'Seats', 'Price', 'CarName',\n",
       "       'BodyStyle', 'TrimLevel'],\n",
       "      dtype='object')"
      ]
     },
     "execution_count": 7,
     "metadata": {},
     "output_type": "execute_result"
    }
   ],
   "source": [
    "TrimLevel=[]\n",
    "for trim in CarTrimLevel:\n",
    "    trim=' '.join(word for word in trim)\n",
    "    TrimLevel.append(trim)\n",
    "CarName=pd.Series(CarName,name='CarName')\n",
    "BodyStyle=pd.Series(CarBodyStyle,name='BodyStyle')\n",
    "TrimLevel=pd.Series(TrimLevel,name='TrimLevel')\n",
    "data=pd.concat([data,CarName,BodyStyle,TrimLevel],axis=1)\n",
    "data.drop('Name',axis=1,inplace=True)\n",
    "data.columns\n"
   ]
  },
  {
   "cell_type": "code",
   "execution_count": 8,
   "metadata": {},
   "outputs": [],
   "source": [
    "#data['CarName'].nunique(),data['BodyStyle'].nunique(),data['TrimLevel'].nunique()"
   ]
  },
  {
   "cell_type": "markdown",
   "metadata": {},
   "source": [
    "**3) Add price column at end**"
   ]
  },
  {
   "cell_type": "code",
   "execution_count": 9,
   "metadata": {},
   "outputs": [],
   "source": [
    "t=data['Price']\n",
    "data.drop('Price',axis=1,inplace=True)\n",
    "data=pd.concat([data,t],axis=1)"
   ]
  },
  {
   "cell_type": "markdown",
   "metadata": {},
   "source": [
    "**4) Checking for null values in the dataset.**"
   ]
  },
  {
   "cell_type": "code",
   "execution_count": 10,
   "metadata": {},
   "outputs": [
    {
     "data": {
      "text/plain": [
       "Location              0\n",
       "Year                  0\n",
       "Kilometers_Driven     0\n",
       "Fuel_Type             0\n",
       "Transmission          0\n",
       "Owner_Type            0\n",
       "Mileage               2\n",
       "Engine               36\n",
       "Power                36\n",
       "Seats                42\n",
       "CarName               0\n",
       "BodyStyle             0\n",
       "TrimLevel             0\n",
       "Price                 0\n",
       "dtype: int64"
      ]
     },
     "execution_count": 10,
     "metadata": {},
     "output_type": "execute_result"
    }
   ],
   "source": [
    "data.isnull().sum()"
   ]
  },
  {
   "cell_type": "markdown",
   "metadata": {},
   "source": [
    "#### 5)  Finding outliers(if any) and Fill null values with suitable values"
   ]
  },
  {
   "cell_type": "code",
   "execution_count": 11,
   "metadata": {},
   "outputs": [
    {
     "data": {
      "text/plain": [
       "<matplotlib.axes._subplots.AxesSubplot at 0x2bb7e209388>"
      ]
     },
     "execution_count": 11,
     "metadata": {},
     "output_type": "execute_result"
    },
    {
     "data": {
      "image/png": "[encoded data removed]",
      "text/plain": [
       "<Figure size 1080x1080 with 4 Axes>"
      ]
     },
     "metadata": {
      "needs_background": "light"
     },
     "output_type": "display_data"
    }
   ],
   "source": [
    "plt.figure(figsize=(15,15))\n",
    "plt.subplots_adjust(left = 0.125,bottom=0.1, right =0.9, top=0.9,wspace=0.2 ,hspace=0.2)\n",
    "\n",
    "plt.subplot(341)\n",
    "plt.title('Engine')\n",
    "sns.boxplot('Engine',data=data)\n",
    "\n",
    "\n",
    "plt.subplot(342)\n",
    "plt.title('Mileage')\n",
    "sns.boxplot('Mileage',data=data)\n",
    "\n",
    "\n",
    "plt.subplot(343)\n",
    "plt.title('Seats')\n",
    "sns.countplot(data['Seats'])\n",
    "\n",
    "#print(data[data['Power']=='null'])  # IF YOU WANT TO SEE WHAT I COMMENTED ABOUT POWER COLUMN ABOVE....\n",
    "plt.subplot(344)\n",
    "plt.title('Power')\n",
    "data.loc[data['Power']=='null','Power']=np.nan  # filling string 'null' with np.nan(Null type)\n",
    "power=data['Power'][data['Power'].isnull()==False].astype(float).values\n",
    "sns.boxplot(power)"
   ]
  },
  {
   "cell_type": "markdown",
   "metadata": {},
   "source": [
    "So there are null values in data . \n",
    "There is something that i found that in power column null values are more than 36 .Why ? because inplace of null values they have added the the string 'null bhp'. so that also need attention. "
   ]
  },
  {
   "cell_type": "markdown",
   "metadata": {},
   "source": [
    "**Comments:-**\n",
    "- It is safe to fill null values of Seats with 5 .\n",
    "- As there are outliers in Engine,Mileage and Power that are far from mean so It is better to fill their null value with mode."
   ]
  },
  {
   "cell_type": "markdown",
   "metadata": {},
   "source": [
    "Since  measure of central tendencies Mean and Median are closer to each other and so I think It is safe to fill null values with mean or median. I will fill null values with mean."
   ]
  },
  {
   "cell_type": "code",
   "execution_count": 12,
   "metadata": {},
   "outputs": [
    {
     "name": "stdout",
     "output_type": "stream",
     "text": [
      "\n",
      "#---------------------Engine------------------------------------------------\n",
      "Filling the Null Values of Engine with Mode : 1197.0 \n",
      "\n",
      "\n",
      "#-------------------Mileage------------------------------------------------\n",
      "Filling the null values of Mileage with Mode : 17.0\n",
      "\n",
      "#------------------Seats---------------------------------------------------\n",
      "Filling the Null values of Seats with Mode: 5.0\n",
      "\n",
      "#-------------------Power--------------------------------------------------\n",
      "Filling Null Values with Mode :  74.0\n"
     ]
    }
   ],
   "source": [
    "print('\\n#---------------------Engine------------------------------------------------')\n",
    "modeEngine=statistics.mode(data['Engine'])\n",
    "data['Engine'].fillna(modeEngine,inplace=True)\n",
    "print('Filling the Null Values of Engine with Mode :',modeEngine,'\\n')\n",
    "\n",
    "print('\\n#-------------------Mileage------------------------------------------------')\n",
    "modeMileage=statistics.mode(data['Mileage'].values)\n",
    "data['Mileage'].fillna(modeMileage,inplace=True)\n",
    "print('Filling the null values of Mileage with Mode :',modeMileage)\n",
    "\n",
    "print('\\n#------------------Seats---------------------------------------------------')\n",
    "data.Seats.fillna(5,inplace=True)\n",
    "print('Filling the Null values of Seats with Mode:',statistics.mode(data['Seats']))\n",
    "\n",
    "print('\\n#-------------------Power--------------------------------------------------')\n",
    "modePower=statistics.mode(power)\n",
    "data['Power'].fillna(modePower,inplace=True)\n",
    "print('Filling Null Values with Mode : ',modePower)\n",
    "data['Power']=data['Power'].astype(float)\n"
   ]
  },
  {
   "cell_type": "code",
   "execution_count": 13,
   "metadata": {
    "scrolled": true
   },
   "outputs": [
    {
     "data": {
      "text/plain": [
       "Location             0\n",
       "Year                 0\n",
       "Kilometers_Driven    0\n",
       "Fuel_Type            0\n",
       "Transmission         0\n",
       "Owner_Type           0\n",
       "Mileage              0\n",
       "Engine               0\n",
       "Power                0\n",
       "Seats                0\n",
       "CarName              0\n",
       "BodyStyle            0\n",
       "TrimLevel            0\n",
       "Price                0\n",
       "dtype: int64"
      ]
     },
     "execution_count": 13,
     "metadata": {},
     "output_type": "execute_result"
    }
   ],
   "source": [
    "data.isnull().sum()"
   ]
  },
  {
   "cell_type": "markdown",
   "metadata": {},
   "source": [
    "**Now No More Null Values ....**"
   ]
  },
  {
   "cell_type": "markdown",
   "metadata": {},
   "source": [
    "### A LITTLE DATA VIZUALIZATIOIN "
   ]
  },
  {
   "cell_type": "code",
   "execution_count": 14,
   "metadata": {
    "scrolled": true
   },
   "outputs": [
    {
     "data": {
      "image/png": "[encoded data removed]",
      "text/plain": [
       "<Figure size 720x360 with 1 Axes>"
      ]
     },
     "metadata": {
      "needs_background": "light"
     },
     "output_type": "display_data"
    }
   ],
   "source": [
    "plt.figure(figsize=(10,5))\n",
    "sns.countplot(data[\"Year\"],hue=data['Owner_Type'])\n",
    "plt.show()"
   ]
  },
  {
   "cell_type": "markdown",
   "metadata": {},
   "source": [
    "- This Chart Shows Maximum no of Car are sold in year 2014. and almost every year First Owner Type car  were sold  most."
   ]
  },
  {
   "cell_type": "code",
   "execution_count": 15,
   "metadata": {},
   "outputs": [
    {
     "data": {
      "image/png": "[encoded data removed]",
      "text/plain": [
       "<Figure size 1440x576 with 1 Axes>"
      ]
     },
     "metadata": {
      "needs_background": "light"
     },
     "output_type": "display_data"
    }
   ],
   "source": [
    "plt.figure(figsize=(20,8))\n",
    "carplot=sns.countplot(data['CarName'])\n",
    "carplot.set_xticklabels(carplot.get_xticklabels(), rotation=45)\n",
    "plt.show()"
   ]
  },
  {
   "cell_type": "code",
   "execution_count": 16,
   "metadata": {
    "scrolled": true
   },
   "outputs": [
    {
     "data": {
      "text/plain": [
       "<matplotlib.axes._subplots.AxesSubplot at 0x2bb7e113448>"
      ]
     },
     "execution_count": 16,
     "metadata": {},
     "output_type": "execute_result"
    },
    {
     "data": {
      "image/png": "[encoded data removed]",
      "text/plain": [
       "<Figure size 1440x720 with 4 Axes>"
      ]
     },
     "metadata": {
      "needs_background": "light"
     },
     "output_type": "display_data"
    }
   ],
   "source": [
    "plt.figure(figsize=(20,10))\n",
    "plt.subplots_adjust(left = 0.125,bottom=0.1, right =0.9, top=0.9,wspace=0.2 ,hspace=0.2)\n",
    "\n",
    "plt.subplot(341)\n",
    "plt.title(\"Transmission\")\n",
    "sns.countplot(data['Transmission'])\n",
    "\n",
    "plt.subplot(342)\n",
    "plt.title(\"Owner Type\")\n",
    "ownerplot=sns.countplot(data['Owner_Type'])\n",
    "ownerplot.set_xticklabels(ownerplot.get_xticklabels(),rotation=45)\n",
    "\n",
    "plt.subplot(343)\n",
    "plt.title('Fuel Type')\n",
    "sns.countplot(data['Fuel_Type'])\n",
    "\n",
    "plt.subplot(344)\n",
    "plt.title('Location')\n",
    "data['Location'].value_counts().plot(kind='bar')\n"
   ]
  },
  {
   "cell_type": "markdown",
   "metadata": {},
   "source": [
    "**Comments:-**\n",
    "- Mumbai has maximum sell of cars.\n",
    "- 71.4% of the cars are of Manual transmision and remaining(28.6%) are Automatic geared vehicles.\n",
    "- 81.9% of First owner type are ready to sell their cars.\n",
    "- 3000+ cars which are ready to sell are of Diesel fuel type."
   ]
  },
  {
   "cell_type": "markdown",
   "metadata": {},
   "source": [
    "#### 6) Doing Label Encoding on Fuel_Type,Transmission,Owner_Type"
   ]
  },
  {
   "cell_type": "code",
   "execution_count": 17,
   "metadata": {},
   "outputs": [],
   "source": [
    "le=preprocessing.LabelEncoder()\n",
    "data['Fuel_Type']=le.fit_transform(data['Fuel_Type'])\n",
    "data['Owner_Type']=le.fit_transform(data['Owner_Type'])\n",
    "data['Transmission']=le.fit_transform(data['Transmission'])\n",
    "\n",
    "#Fuel Type : 0-->CNG  1-->Diesel 2-->Electric  3-->'LPG'  4-->Petrol\n",
    "#Owner Type : 0-->'First', 1-->'Fourth & Above', 2-->'Second', 3-->'Third'\n",
    "#Transmission : 0-->Automatic 1-->Manual"
   ]
  },
  {
   "cell_type": "markdown",
   "metadata": {},
   "source": [
    "#### 7) Label Encoding on Location,CarName,CarBodyStyle,CarTrimLevel"
   ]
  },
  {
   "cell_type": "code",
   "execution_count": 18,
   "metadata": {},
   "outputs": [],
   "source": [
    "#data['Location'].unique(),data['CarName'].unique(),data['BodyStyle'].unique(),data['TrimLevel'].unique()"
   ]
  },
  {
   "cell_type": "code",
   "execution_count": 19,
   "metadata": {},
   "outputs": [],
   "source": [
    "data['Location']=le.fit_transform(data['Location'])\n",
    "data['CarName']=le.fit_transform(data['CarName'])\n",
    "data['BodyStyle']=le.fit_transform(data['BodyStyle'])\n",
    "data['TrimLevel']=le.fit_transform(data['TrimLevel'])"
   ]
  },
  {
   "cell_type": "code",
   "execution_count": 20,
   "metadata": {},
   "outputs": [
    {
     "data": {
      "text/plain": [
       "Location             0\n",
       "Year                 0\n",
       "Kilometers_Driven    0\n",
       "Fuel_Type            0\n",
       "Transmission         0\n",
       "Owner_Type           0\n",
       "Mileage              0\n",
       "Engine               0\n",
       "Power                0\n",
       "Seats                0\n",
       "CarName              0\n",
       "BodyStyle            0\n",
       "TrimLevel            0\n",
       "Price                0\n",
       "dtype: int64"
      ]
     },
     "execution_count": 20,
     "metadata": {},
     "output_type": "execute_result"
    }
   ],
   "source": [
    "data.isnull().sum()"
   ]
  },
  {
   "cell_type": "code",
   "execution_count": 21,
   "metadata": {
    "scrolled": true
   },
   "outputs": [
    {
     "data": {
      "text/html": [
       "<div>\n",
       "<style scoped>\n",
       "    .dataframe tbody tr th:only-of-type {\n",
       "        vertical-align: middle;\n",
       "    }\n",
       "\n",
       "    .dataframe tbody tr th {\n",
       "        vertical-align: top;\n",
       "    }\n",
       "\n",
       "    .dataframe thead th {\n",
       "        text-align: right;\n",
       "    }\n",
       "</style>\n",
       "<table border=\"1\" class=\"dataframe\">\n",
       "  <thead>\n",
       "    <tr style=\"text-align: right;\">\n",
       "      <th></th>\n",
       "      <th>Location</th>\n",
       "      <th>Year</th>\n",
       "      <th>Kilometers_Driven</th>\n",
       "      <th>Fuel_Type</th>\n",
       "      <th>Transmission</th>\n",
       "      <th>Owner_Type</th>\n",
       "      <th>Mileage</th>\n",
       "      <th>Engine</th>\n",
       "      <th>Power</th>\n",
       "      <th>Seats</th>\n",
       "      <th>CarName</th>\n",
       "      <th>BodyStyle</th>\n",
       "      <th>TrimLevel</th>\n",
       "      <th>Price</th>\n",
       "    </tr>\n",
       "  </thead>\n",
       "  <tbody>\n",
       "    <tr>\n",
       "      <th>0</th>\n",
       "      <td>9</td>\n",
       "      <td>2010</td>\n",
       "      <td>72000</td>\n",
       "      <td>0</td>\n",
       "      <td>1</td>\n",
       "      <td>0</td>\n",
       "      <td>26.60</td>\n",
       "      <td>998.0</td>\n",
       "      <td>58.16</td>\n",
       "      <td>5.0</td>\n",
       "      <td>18</td>\n",
       "      <td>189</td>\n",
       "      <td>1216</td>\n",
       "      <td>1.75</td>\n",
       "    </tr>\n",
       "    <tr>\n",
       "      <th>1</th>\n",
       "      <td>10</td>\n",
       "      <td>2015</td>\n",
       "      <td>41000</td>\n",
       "      <td>1</td>\n",
       "      <td>1</td>\n",
       "      <td>0</td>\n",
       "      <td>19.67</td>\n",
       "      <td>1582.0</td>\n",
       "      <td>126.20</td>\n",
       "      <td>5.0</td>\n",
       "      <td>10</td>\n",
       "      <td>53</td>\n",
       "      <td>223</td>\n",
       "      <td>12.50</td>\n",
       "    </tr>\n",
       "    <tr>\n",
       "      <th>2</th>\n",
       "      <td>2</td>\n",
       "      <td>2011</td>\n",
       "      <td>46000</td>\n",
       "      <td>4</td>\n",
       "      <td>1</td>\n",
       "      <td>0</td>\n",
       "      <td>18.20</td>\n",
       "      <td>1199.0</td>\n",
       "      <td>88.70</td>\n",
       "      <td>5.0</td>\n",
       "      <td>9</td>\n",
       "      <td>99</td>\n",
       "      <td>1452</td>\n",
       "      <td>4.50</td>\n",
       "    </tr>\n",
       "    <tr>\n",
       "      <th>3</th>\n",
       "      <td>2</td>\n",
       "      <td>2012</td>\n",
       "      <td>87000</td>\n",
       "      <td>1</td>\n",
       "      <td>1</td>\n",
       "      <td>0</td>\n",
       "      <td>20.77</td>\n",
       "      <td>1248.0</td>\n",
       "      <td>88.76</td>\n",
       "      <td>7.0</td>\n",
       "      <td>18</td>\n",
       "      <td>69</td>\n",
       "      <td>1478</td>\n",
       "      <td>6.00</td>\n",
       "    </tr>\n",
       "    <tr>\n",
       "      <th>4</th>\n",
       "      <td>3</td>\n",
       "      <td>2013</td>\n",
       "      <td>40670</td>\n",
       "      <td>1</td>\n",
       "      <td>0</td>\n",
       "      <td>2</td>\n",
       "      <td>15.20</td>\n",
       "      <td>1968.0</td>\n",
       "      <td>140.80</td>\n",
       "      <td>5.0</td>\n",
       "      <td>1</td>\n",
       "      <td>10</td>\n",
       "      <td>1162</td>\n",
       "      <td>17.74</td>\n",
       "    </tr>\n",
       "    <tr>\n",
       "      <th>...</th>\n",
       "      <td>...</td>\n",
       "      <td>...</td>\n",
       "      <td>...</td>\n",
       "      <td>...</td>\n",
       "      <td>...</td>\n",
       "      <td>...</td>\n",
       "      <td>...</td>\n",
       "      <td>...</td>\n",
       "      <td>...</td>\n",
       "      <td>...</td>\n",
       "      <td>...</td>\n",
       "      <td>...</td>\n",
       "      <td>...</td>\n",
       "      <td>...</td>\n",
       "    </tr>\n",
       "    <tr>\n",
       "      <th>6014</th>\n",
       "      <td>4</td>\n",
       "      <td>2014</td>\n",
       "      <td>27365</td>\n",
       "      <td>1</td>\n",
       "      <td>1</td>\n",
       "      <td>0</td>\n",
       "      <td>28.40</td>\n",
       "      <td>1248.0</td>\n",
       "      <td>74.00</td>\n",
       "      <td>5.0</td>\n",
       "      <td>18</td>\n",
       "      <td>169</td>\n",
       "      <td>1478</td>\n",
       "      <td>4.75</td>\n",
       "    </tr>\n",
       "    <tr>\n",
       "      <th>6015</th>\n",
       "      <td>6</td>\n",
       "      <td>2015</td>\n",
       "      <td>100000</td>\n",
       "      <td>1</td>\n",
       "      <td>1</td>\n",
       "      <td>0</td>\n",
       "      <td>24.40</td>\n",
       "      <td>1120.0</td>\n",
       "      <td>71.00</td>\n",
       "      <td>5.0</td>\n",
       "      <td>10</td>\n",
       "      <td>202</td>\n",
       "      <td>16</td>\n",
       "      <td>4.00</td>\n",
       "    </tr>\n",
       "    <tr>\n",
       "      <th>6016</th>\n",
       "      <td>6</td>\n",
       "      <td>2012</td>\n",
       "      <td>55000</td>\n",
       "      <td>1</td>\n",
       "      <td>1</td>\n",
       "      <td>2</td>\n",
       "      <td>14.00</td>\n",
       "      <td>2498.0</td>\n",
       "      <td>112.00</td>\n",
       "      <td>8.0</td>\n",
       "      <td>17</td>\n",
       "      <td>204</td>\n",
       "      <td>854</td>\n",
       "      <td>2.90</td>\n",
       "    </tr>\n",
       "    <tr>\n",
       "      <th>6017</th>\n",
       "      <td>8</td>\n",
       "      <td>2013</td>\n",
       "      <td>46000</td>\n",
       "      <td>4</td>\n",
       "      <td>1</td>\n",
       "      <td>0</td>\n",
       "      <td>18.90</td>\n",
       "      <td>998.0</td>\n",
       "      <td>67.10</td>\n",
       "      <td>5.0</td>\n",
       "      <td>18</td>\n",
       "      <td>189</td>\n",
       "      <td>1223</td>\n",
       "      <td>2.65</td>\n",
       "    </tr>\n",
       "    <tr>\n",
       "      <th>6018</th>\n",
       "      <td>5</td>\n",
       "      <td>2011</td>\n",
       "      <td>47000</td>\n",
       "      <td>1</td>\n",
       "      <td>1</td>\n",
       "      <td>0</td>\n",
       "      <td>25.44</td>\n",
       "      <td>936.0</td>\n",
       "      <td>57.60</td>\n",
       "      <td>5.0</td>\n",
       "      <td>4</td>\n",
       "      <td>26</td>\n",
       "      <td>879</td>\n",
       "      <td>2.50</td>\n",
       "    </tr>\n",
       "  </tbody>\n",
       "</table>\n",
       "<p>6019 rows × 14 columns</p>\n",
       "</div>"
      ],
      "text/plain": [
       "      Location  Year  Kilometers_Driven  Fuel_Type  Transmission  Owner_Type  \\\n",
       "0            9  2010              72000          0             1           0   \n",
       "1           10  2015              41000          1             1           0   \n",
       "2            2  2011              46000          4             1           0   \n",
       "3            2  2012              87000          1             1           0   \n",
       "4            3  2013              40670          1             0           2   \n",
       "...        ...   ...                ...        ...           ...         ...   \n",
       "6014         4  2014              27365          1             1           0   \n",
       "6015         6  2015             100000          1             1           0   \n",
       "6016         6  2012              55000          1             1           2   \n",
       "6017         8  2013              46000          4             1           0   \n",
       "6018         5  2011              47000          1             1           0   \n",
       "\n",
       "      Mileage  Engine   Power  Seats  CarName  BodyStyle  TrimLevel  Price  \n",
       "0       26.60   998.0   58.16    5.0       18        189       1216   1.75  \n",
       "1       19.67  1582.0  126.20    5.0       10         53        223  12.50  \n",
       "2       18.20  1199.0   88.70    5.0        9         99       1452   4.50  \n",
       "3       20.77  1248.0   88.76    7.0       18         69       1478   6.00  \n",
       "4       15.20  1968.0  140.80    5.0        1         10       1162  17.74  \n",
       "...       ...     ...     ...    ...      ...        ...        ...    ...  \n",
       "6014    28.40  1248.0   74.00    5.0       18        169       1478   4.75  \n",
       "6015    24.40  1120.0   71.00    5.0       10        202         16   4.00  \n",
       "6016    14.00  2498.0  112.00    8.0       17        204        854   2.90  \n",
       "6017    18.90   998.0   67.10    5.0       18        189       1223   2.65  \n",
       "6018    25.44   936.0   57.60    5.0        4         26        879   2.50  \n",
       "\n",
       "[6019 rows x 14 columns]"
      ]
     },
     "execution_count": 21,
     "metadata": {},
     "output_type": "execute_result"
    }
   ],
   "source": [
    "#This is how finally our training data looks like ....\n",
    "data"
   ]
  },
  {
   "cell_type": "code",
   "execution_count": 22,
   "metadata": {},
   "outputs": [
    {
     "data": {
      "text/plain": [
       "<matplotlib.axes._subplots.AxesSubplot at 0x2bb7df57f08>"
      ]
     },
     "execution_count": 22,
     "metadata": {},
     "output_type": "execute_result"
    },
    {
     "data": {
      "image/png": "[encoded data removed]",
      "text/plain": [
       "<Figure size 432x288 with 1 Axes>"
      ]
     },
     "metadata": {
      "needs_background": "light"
     },
     "output_type": "display_data"
    }
   ],
   "source": [
    "sns.scatterplot(data['Price'],data['CarName'])"
   ]
  },
  {
   "cell_type": "code",
   "execution_count": 23,
   "metadata": {},
   "outputs": [],
   "source": [
    "#data.info()"
   ]
  },
  {
   "cell_type": "markdown",
   "metadata": {},
   "source": [
    "# Import Various Models"
   ]
  },
  {
   "cell_type": "code",
   "execution_count": 24,
   "metadata": {},
   "outputs": [],
   "source": [
    "from sklearn.model_selection import train_test_split\n",
    "from sklearn.metrics import r2_score,mean_squared_error\n",
    "from sklearn.model_selection import GridSearchCV\n",
    "from sklearn.model_selection import RandomizedSearchCV\n"
   ]
  },
  {
   "cell_type": "code",
   "execution_count": 25,
   "metadata": {},
   "outputs": [],
   "source": [
    "#Performing Test_Train Split\n",
    "X_train, X_test, y_train, y_test = train_test_split(data.drop('Price', axis=1), data['Price'], test_size=0.20,random_state=79)"
   ]
  },
  {
   "cell_type": "code",
   "execution_count": 26,
   "metadata": {},
   "outputs": [],
   "source": [
    "X=data.drop('Price',axis=1)\n",
    "y=data['Price']"
   ]
  },
  {
   "cell_type": "markdown",
   "metadata": {},
   "source": [
    "**1) Linear Regression**"
   ]
  },
  {
   "cell_type": "code",
   "execution_count": 27,
   "metadata": {},
   "outputs": [],
   "source": [
    "from sklearn.linear_model import LinearRegression"
   ]
  },
  {
   "cell_type": "code",
   "execution_count": 28,
   "metadata": {},
   "outputs": [],
   "source": [
    "linear=LinearRegression().fit(X_train,y_train)"
   ]
  },
  {
   "cell_type": "code",
   "execution_count": 29,
   "metadata": {},
   "outputs": [
    {
     "data": {
      "text/plain": [
       "0.7206236313446951"
      ]
     },
     "execution_count": 29,
     "metadata": {},
     "output_type": "execute_result"
    }
   ],
   "source": [
    "y_pred=linear.predict(X_test)\n",
    "r2_score(y_test,y_pred)"
   ]
  },
  {
   "cell_type": "markdown",
   "metadata": {},
   "source": [
    "#### 2) K-Nearest Neighbors"
   ]
  },
  {
   "cell_type": "code",
   "execution_count": 30,
   "metadata": {},
   "outputs": [
    {
     "name": "stdout",
     "output_type": "stream",
     "text": [
      "{'n_neighbors': 5}\n",
      "R2_SCORE : 0.49695076964680895\n",
      "Mean Square Error : 54.75055729568106\n"
     ]
    },
    {
     "data": {
      "text/plain": [
       "KNeighborsRegressor(algorithm='auto', leaf_size=30, metric='minkowski',\n",
       "                    metric_params=None, n_jobs=None, n_neighbors=5, p=2,\n",
       "                    weights='uniform')"
      ]
     },
     "execution_count": 30,
     "metadata": {},
     "output_type": "execute_result"
    }
   ],
   "source": [
    "from sklearn.neighbors import KNeighborsRegressor\n",
    "model_1=KNeighborsRegressor()\n",
    "parameters={\n",
    "     'n_neighbors':np.arange(1,20)\n",
    "}\n",
    "knn_grid=GridSearchCV(estimator=model_1,param_grid=parameters,cv=5)\n",
    "knn_grid.fit(X_train,y_train)\n",
    "print(knn_grid.best_params_)\n",
    "y_pred=knn_grid.predict(X_test)\n",
    "print('R2_SCORE :',r2_score(y_test,y_pred))\n",
    "print('Mean Square Error :',mean_squared_error(y_test,y_pred))\n",
    "knn_grid.best_estimator_"
   ]
  },
  {
   "cell_type": "markdown",
   "metadata": {},
   "source": [
    "#### 3) XGBoost"
   ]
  },
  {
   "cell_type": "code",
   "execution_count": 31,
   "metadata": {},
   "outputs": [
    {
     "data": {
      "text/plain": [
       "0.9433522134458624"
      ]
     },
     "execution_count": 31,
     "metadata": {},
     "output_type": "execute_result"
    }
   ],
   "source": [
    "from xgboost import XGBRegressor\n",
    "from sklearn.model_selection import GridSearchCV\n",
    "xgb_reg=XGBRegressor()\n",
    "xgb_reg.fit(X_train,y_train)  #without hyperparameter tuning\n",
    "parameters={\n",
    "    # Parameters that we are going to tune.\n",
    "    'max_depth':[5,7,9],\n",
    "    'min_child_weight':[1,3,5],\n",
    "    'eta':np.arange(0.01,0.1,0.02),\n",
    "    'subsample':[0.5,0.8,1],\n",
    "    'colsample_bytree':[0.5,0.8,1]\n",
    "}\n",
    "xgb=GridSearchCV(estimator=xgb_reg,param_grid=parameters,cv=5,n_jobs=-1) #hyperparameter tuning\n",
    "xgb.fit(X_train,y_train)\n",
    "pred=xgb.predict(X_test)\n",
    "r2_score(pred,y_test)"
   ]
  },
  {
   "cell_type": "code",
   "execution_count": 32,
   "metadata": {},
   "outputs": [
    {
     "name": "stdout",
     "output_type": "stream",
     "text": [
      "BEST PARAMETERS AFTER HYPERPARAMETER TUNING :\n",
      " \n",
      "{'colsample_bytree': 1,\n",
      " 'eta': 0.01,\n",
      " 'max_depth': 5,\n",
      " 'min_child_weight': 5,\n",
      " 'subsample': 1}\n"
     ]
    }
   ],
   "source": [
    "print('BEST PARAMETERS AFTER HYPERPARAMETER TUNING :\\n ')\n",
    "pprint(xgb.best_params_)"
   ]
  },
  {
   "cell_type": "code",
   "execution_count": 33,
   "metadata": {},
   "outputs": [
    {
     "name": "stdout",
     "output_type": "stream",
     "text": [
      "R2_SCORE (without hyperparameter tuning): 0.9452278789362064\n",
      "Mean Square Error : 5.961253832758568\n",
      "\n",
      "\n",
      "R2_SCORE (after hyperparameter tuning): 0.94685426865092\n",
      "Mean Square Error : 5.784241846877957\n"
     ]
    }
   ],
   "source": [
    "y_pred=xgb_reg.predict(X_test)\n",
    "print('R2_SCORE (without hyperparameter tuning):',r2_score(y_test,y_pred))\n",
    "print('Mean Square Error :',mean_squared_error(y_test,y_pred))\n",
    "y_pred2=xgb.predict(X_test)\n",
    "print('\\n')\n",
    "print('R2_SCORE (after hyperparameter tuning):',r2_score(y_test,y_pred2))\n",
    "print('Mean Square Error :',mean_squared_error(y_test,y_pred2))"
   ]
  },
  {
   "cell_type": "code",
   "execution_count": 34,
   "metadata": {},
   "outputs": [],
   "source": [
    "# Xcross = data.drop('Price', axis=1)\n",
    "# Ycross = data['Price']\n",
    "\n",
    "# print(Xcross)"
   ]
  },
  {
   "cell_type": "code",
   "execution_count": 35,
   "metadata": {},
   "outputs": [],
   "source": [
    "# # k-fold cross validation evaluation of xgboost model\n",
    "# from numpy import loadtxt\n",
    "# import xgboost\n",
    "# from sklearn.model_selection import KFold\n",
    "# from sklearn.model_selection import cross_val_score\n",
    "# # load data\n",
    "\n",
    "\n",
    "\n",
    "\n",
    "# xgb_reg=XGBRegressor()\n",
    "# xgb_reg.fit(X_train,y_train)  #without hyperparameter tuning\n",
    "# parameters={\n",
    "#     # Parameters that we are going to tune.\n",
    "#     'max_depth':[5,7,9],\n",
    "#     'min_child_weight':[1,3,5],\n",
    "#     'eta':np.arange(0.01,0.1,0.02),\n",
    "#     'subsample':[0.5,0.8,1],\n",
    "#     'colsample_bytree':[0.5,0.8,1]\n",
    "# }\n",
    "# xgb=GridSearchCV(estimator=xgb_reg,param_grid=parameters,cv=5,n_jobs=-1) #hyperparameter tuning\n",
    "\n",
    "\n",
    "\n",
    "# kfold = KFold(n_splits=10, random_state=7)\n",
    "# results = cross_val_score(xgb, Xcross, Ycross, cv=kfold)\n",
    "# print(\"Accuracy: %.2f%% (%.2f%%)\" % (results.mean()*100, results.std()*100))"
   ]
  },
  {
   "cell_type": "code",
   "execution_count": null,
   "metadata": {},
   "outputs": [],
   "source": []
  },
  {
   "cell_type": "markdown",
   "metadata": {},
   "source": [
    "### Showing Relative importance of various columns :"
   ]
  },
  {
   "cell_type": "code",
   "execution_count": 36,
   "metadata": {},
   "outputs": [
    {
     "name": "stdout",
     "output_type": "stream",
     "text": [
      "R2_SCORE : 0.9530682988164901\n",
      "Mean Square Error : 5.107923120819545\n"
     ]
    },
    {
     "data": {
      "text/plain": [
       "<matplotlib.axes._subplots.AxesSubplot at 0x2bb00210788>"
      ]
     },
     "execution_count": 36,
     "metadata": {},
     "output_type": "execute_result"
    },
    {
     "data": {
      "image/png": "[encoded data removed]",
      "text/plain": [
       "<Figure size 1440x360 with 1 Axes>"
      ]
     },
     "metadata": {
      "needs_background": "light"
     },
     "output_type": "display_data"
    }
   ],
   "source": [
    "#These Hyperparameter I obtain when I run the above code sometime before\n",
    "from xgboost import XGBRegressor\n",
    "xgboost=XGBRegressor(colsample_bytree= 0.5,\n",
    "                     eta= 0.08999999999999998,\n",
    "                     max_depth= 9,\n",
    "                     min_child_weight= 5,\n",
    "                     subsample= 0.5)\n",
    "xgboost.fit(X_train,y_train)\n",
    "print('R2_SCORE :',r2_score(y_test,xgboost.predict(X_test)))\n",
    "print('Mean Square Error :',mean_squared_error(y_test,xgboost.predict(X_test)))\n",
    "\n",
    "most_relevant_features= list( dict((k, v) for k, v in xgboost.get_booster().get_fscore().items() if v >= 20).keys())\n",
    "feature_values=list(dict((k,v) for k,v in xgboost.get_booster().get_fscore().items() if v>=20).values())\n",
    "\n",
    "plt.figure(figsize=(20,5))\n",
    "import seaborn as sns\n",
    "sns.barplot(y=feature_values,x=most_relevant_features)"
   ]
  },
  {
   "cell_type": "markdown",
   "metadata": {},
   "source": [
    "#### 4) RandomForest"
   ]
  },
  {
   "cell_type": "code",
   "execution_count": 37,
   "metadata": {},
   "outputs": [
    {
     "name": "stdout",
     "output_type": "stream",
     "text": [
      "Fitting 5 folds for each of 100 candidates, totalling 500 fits\n"
     ]
    },
    {
     "name": "stderr",
     "output_type": "stream",
     "text": [
      "[Parallel(n_jobs=-1)]: Using backend LokyBackend with 12 concurrent workers.\n",
      "[Parallel(n_jobs=-1)]: Done  17 tasks      | elapsed:   14.2s\n",
      "[Parallel(n_jobs=-1)]: Done 138 tasks      | elapsed:  2.5min\n",
      "[Parallel(n_jobs=-1)]: Done 341 tasks      | elapsed:  6.2min\n",
      "[Parallel(n_jobs=-1)]: Done 500 out of 500 | elapsed:  8.9min finished\n"
     ]
    },
    {
     "data": {
      "text/plain": [
       "RandomizedSearchCV(cv=5, error_score=nan,\n",
       "                   estimator=RandomForestRegressor(bootstrap=True,\n",
       "                                                   ccp_alpha=0.0,\n",
       "                                                   criterion='mse',\n",
       "                                                   max_depth=None,\n",
       "                                                   max_features='auto',\n",
       "                                                   max_leaf_nodes=None,\n",
       "                                                   max_samples=None,\n",
       "                                                   min_impurity_decrease=0.0,\n",
       "                                                   min_impurity_split=None,\n",
       "                                                   min_samples_leaf=1,\n",
       "                                                   min_samples_split=2,\n",
       "                                                   min_weight_fraction_leaf=0.0,\n",
       "                                                   n_estimators=100,\n",
       "                                                   n_jobs=None, oob_score=Fals...\n",
       "                   param_distributions={'bootstrap': [True, False],\n",
       "                                        'max_depth': [10, 20, 30, 40, 50, 60,\n",
       "                                                      70, 80, 90, 100, 110,\n",
       "                                                      None],\n",
       "                                        'max_features': ['auto', 'sqrt'],\n",
       "                                        'min_samples_leaf': [1, 2, 4],\n",
       "                                        'min_samples_split': [2, 5, 10],\n",
       "                                        'n_estimators': [200, 294, 389, 484,\n",
       "                                                         578, 673, 768, 863,\n",
       "                                                         957, 1052, 1147, 1242,\n",
       "                                                         1336, 1431, 1526, 1621,\n",
       "                                                         1715, 1810, 1905,\n",
       "                                                         2000]},\n",
       "                   pre_dispatch='2*n_jobs', random_state=42, refit=True,\n",
       "                   return_train_score=False, scoring=None, verbose=2)"
      ]
     },
     "execution_count": 37,
     "metadata": {},
     "output_type": "execute_result"
    }
   ],
   "source": [
    "from sklearn.ensemble import RandomForestRegressor\n",
    "from pprint import pprint\n",
    "# Number of trees in random forest\n",
    "n_estimators = [int(x) for x in np.linspace(start = 200, stop = 2000, num = 20)]\n",
    "# Number of features to consider at every split\n",
    "max_features = ['auto', 'sqrt']\n",
    "# Maximum number of levels in tree\n",
    "max_depth = [int(x) for x in np.linspace(10, 110, num = 11)]\n",
    "max_depth.append(None)\n",
    "# Minimum number of samples required to split a node\n",
    "min_samples_split = [2, 5, 10]\n",
    "# Minimum number of samples required at each leaf node\n",
    "min_samples_leaf = [1, 2, 4]\n",
    "# Method of selecting samples for training each tree\n",
    "bootstrap = [True, False]\n",
    "# Create the random grid\n",
    "random_grid = {'n_estimators': n_estimators,\n",
    "               'max_features': max_features,\n",
    "               'max_depth': max_depth,\n",
    "               'min_samples_split': min_samples_split,\n",
    "               'min_samples_leaf': min_samples_leaf,\n",
    "               'bootstrap': bootstrap}\n",
    "# Use the random grid to search for best hyperparameters\n",
    "# First create the base model to tune\n",
    "rf = RandomForestRegressor()\n",
    "# Random search of parameters, using 3 fold cross validation, \n",
    "# search across 100 different combinations, and use all available cores\n",
    "rf_random = RandomizedSearchCV(estimator = rf, param_distributions = random_grid, n_iter = 100, cv = 5, verbose=2, random_state=42, n_jobs = -1)\n",
    "# Fit the random search model\n",
    "rf_random.fit(X_train,y_train)"
   ]
  },
  {
   "cell_type": "code",
   "execution_count": 38,
   "metadata": {},
   "outputs": [
    {
     "name": "stdout",
     "output_type": "stream",
     "text": [
      "R2_SCORE (without hyperparameter tuning): 0.9369962130742272\n",
      "Mean Square Error : 6.857166729988861\n",
      "\n",
      "\n",
      "R2_SCORE (after hyperparameter tuning): 0.9429134059221231\n",
      "Mean Square Error : 6.213154998133393\n"
     ]
    }
   ],
   "source": [
    "rf.fit(X_train,y_train)\n",
    "y_pred=rf.predict(X_test)\n",
    "print('R2_SCORE (without hyperparameter tuning):',r2_score(y_test,y_pred))\n",
    "print('Mean Square Error :',mean_squared_error(y_test,y_pred))\n",
    "y_pred2=rf_random.predict(X_test)\n",
    "print('\\n')\n",
    "print('R2_SCORE (after hyperparameter tuning):',r2_score(y_test,y_pred2))\n",
    "print('Mean Square Error :',mean_squared_error(y_test,y_pred2))"
   ]
  },
  {
   "cell_type": "markdown",
   "metadata": {},
   "source": [
    "**So We Can see that XGBoost Perfomed well among all other with Max R2_Score and least mean square error.Hence we will use this to predict the Price of Cars in Test Dataset .**"
   ]
  },
  {
   "cell_type": "markdown",
   "metadata": {},
   "source": [
    "### Now we will read the Test DataSet and Perform data cleaning as we did for Train Dataset"
   ]
  },
  {
   "cell_type": "code",
   "execution_count": 39,
   "metadata": {},
   "outputs": [
    {
     "data": {
      "text/plain": [
       "Index(['Name', 'Location', 'Year', 'Kilometers_Driven', 'Fuel_Type',\n",
       "       'Transmission', 'Owner_Type', 'Mileage', 'Engine', 'Power', 'Seats'],\n",
       "      dtype='object')"
      ]
     },
     "execution_count": 39,
     "metadata": {},
     "output_type": "execute_result"
    }
   ],
   "source": [
    "test=pd.read_excel('Data_Test (1).xlsx')\n",
    "test.columns"
   ]
  },
  {
   "cell_type": "code",
   "execution_count": 40,
   "metadata": {},
   "outputs": [
    {
     "data": {
      "text/plain": [
       "Name                  0\n",
       "Location              0\n",
       "Year                  0\n",
       "Kilometers_Driven     0\n",
       "Fuel_Type             0\n",
       "Transmission          0\n",
       "Owner_Type            0\n",
       "Mileage               0\n",
       "Engine               10\n",
       "Power                10\n",
       "Seats                11\n",
       "dtype: int64"
      ]
     },
     "execution_count": 40,
     "metadata": {},
     "output_type": "execute_result"
    }
   ],
   "source": [
    "test.isnull().sum()"
   ]
  },
  {
   "cell_type": "code",
   "execution_count": 41,
   "metadata": {},
   "outputs": [],
   "source": [
    "test['Mileage']=test.Mileage.str.replace('km/kg','').str.replace('kmpl','').astype(float)\n",
    "\n",
    "test['Engine']=test.Engine.str.replace('CC','').astype(float)\n",
    "\n",
    "test['Power']=test.Power.str.replace(' bhp','')"
   ]
  },
  {
   "cell_type": "code",
   "execution_count": 42,
   "metadata": {},
   "outputs": [
    {
     "name": "stdout",
     "output_type": "stream",
     "text": [
      "Location              0\n",
      "Year                  0\n",
      "Kilometers_Driven     0\n",
      "Fuel_Type             0\n",
      "Transmission          0\n",
      "Owner_Type            0\n",
      "Mileage               0\n",
      "Engine               10\n",
      "Power                10\n",
      "Seats                11\n",
      "CarName               0\n",
      "BodyStyle             0\n",
      "TrimLevel             0\n",
      "dtype: int64\n",
      "Mode Engine: 1197.0\n",
      "Filling the Null Values of Engine with Mode : 1197.0 \n",
      "\n",
      "Mode Mileage: 17.0 \n",
      "\n",
      "Filling the null values of Mileage with Mode : 17.0\n",
      "Filling the Null values of Seats with Mode: 5.0\n",
      "Filling Null Values of Power with Mode :  74.0\n"
     ]
    },
    {
     "data": {
      "text/plain": [
       "Location             0\n",
       "Year                 0\n",
       "Kilometers_Driven    0\n",
       "Fuel_Type            0\n",
       "Transmission         0\n",
       "Owner_Type           0\n",
       "Mileage              0\n",
       "Engine               0\n",
       "Power                0\n",
       "Seats                0\n",
       "CarName              0\n",
       "BodyStyle            0\n",
       "TrimLevel            0\n",
       "dtype: int64"
      ]
     },
     "execution_count": 42,
     "metadata": {},
     "output_type": "execute_result"
    },
    {
     "data": {
      "image/png": "[encoded data removed]",
      "text/plain": [
       "<Figure size 1080x1080 with 3 Axes>"
      ]
     },
     "metadata": {
      "needs_background": "light"
     },
     "output_type": "display_data"
    },
    {
     "data": {
      "image/png": "[encoded data removed]",
      "text/plain": [
       "<Figure size 1080x1080 with 1 Axes>"
      ]
     },
     "metadata": {
      "needs_background": "light"
     },
     "output_type": "display_data"
    }
   ],
   "source": [
    "#Splitting Name column in CarName,CarBodyStyle,CarTrimLevel\n",
    "\n",
    "CarName=test.Name.str.split(' ').apply(lambda x : x[0])\n",
    "CarBodyStyle=test.Name.str.split(' ').apply(lambda x :x[1])\n",
    "CarTrimLevel=test.Name.str.split(' ').apply(lambda x : x[2:])\n",
    "\n",
    "\n",
    "TrimLevel=[]\n",
    "for trim in CarTrimLevel:\n",
    "    trim=' '.join(word for word in trim)\n",
    "    TrimLevel.append(trim)\n",
    "CarName=pd.Series(CarName,name='CarName')\n",
    "BodyStyle=pd.Series(CarBodyStyle,name='BodyStyle')\n",
    "TrimLevel=pd.Series(TrimLevel,name='TrimLevel')\n",
    "test=pd.concat([test,CarName,BodyStyle,TrimLevel],axis=1)\n",
    "test.drop('Name',axis=1,inplace=True)\n",
    "test.columns\n",
    "\n",
    "\n",
    "test['BodyStyle'].nunique(),test['CarName'].nunique(),test['TrimLevel'].nunique()\n",
    "\n",
    "print(test.isnull().sum())\n",
    "\n",
    "#### Doing Label Encoding on Fuel_Type,Transmission,Owner_Type\n",
    "\n",
    "le=preprocessing.LabelEncoder()\n",
    "test['Fuel_Type']=le.fit_transform(test['Fuel_Type'])\n",
    "test['Owner_Type']=le.fit_transform(test['Owner_Type'])\n",
    "test['Transmission']=le.fit_transform(test['Transmission'])\n",
    "\n",
    "#Fuel Type : 0-->CNG  1-->Diesel 2-->Electric  3-->'LPG'  4-->Petrol\n",
    "#Owner Type : 0-->'First', 1-->'Fourth & Above', 2-->'Second', 3-->'Third'\n",
    "#Transmission : 0-->Automatic 1-->Manual\n",
    "\n",
    "#### Label Encoding on Location,CarName,CarBodyStyle,CarTrimLevel\n",
    "\n",
    "#test['Location'].unique(),test['CarName'].unique(),test['BodyStyle'].unique(),test['TrimLevel'].unique()\n",
    "\n",
    "test['Location']=le.fit_transform(test['Location'])\n",
    "test['CarName']=le.fit_transform(test['CarName'])\n",
    "test['BodyStyle']=le.fit_transform(test['BodyStyle'])\n",
    "test['TrimLevel']=le.fit_transform(test['TrimLevel'])\n",
    "\n",
    "test\n",
    "\n",
    "#### Finding outliers(if any) and Fill null values with suitable values\n",
    "\n",
    "plt.figure(figsize=(15,15))\n",
    "plt.subplots_adjust(left = 0.125,bottom=0.1, right =0.9, top=0.9,wspace=0.2 ,hspace=0.2)\n",
    "\n",
    "plt.subplot(331)\n",
    "plt.title('Engine')\n",
    "sns.boxplot('Engine',data=test)\n",
    "modeEngine=statistics.mode(test['Engine'])\n",
    "print('Mode Engine:',modeEngine)\n",
    "test['Engine'].fillna(modeEngine,inplace=True)\n",
    "print('Filling the Null Values of Engine with Mode :',modeEngine,'\\n')\n",
    "\n",
    "plt.subplot(332)\n",
    "plt.title('Mileage')\n",
    "sns.boxplot('Mileage',data=test)\n",
    "modeMileage=statistics.mode(test['Mileage'].values)\n",
    "print('Mode Mileage:',modeMileage,'\\n')\n",
    "test['Mileage'].fillna(modeMileage,inplace=True)\n",
    "print('Filling the null values of Mileage with Mode :',modeMileage)\n",
    "\n",
    "plt.subplot(333)\n",
    "plt.title('Seats')\n",
    "sns.countplot(test['Seats'])\n",
    "test.Seats.fillna(5,inplace=True)\n",
    "print('Filling the Null values of Seats with Mode:',statistics.mode(test['Seats']))\n",
    "\n",
    "#print(test[test['Power']=='null'])\n",
    "plt.figure(figsize=(15,15))\n",
    "plt.subplots_adjust(left = 0.125,bottom=0.1, right =0.9, top=0.9,wspace=0.2 ,hspace=0.2)\n",
    "\n",
    "plt.subplot(331)\n",
    "plt.title('Power')\n",
    "test.loc[test['Power']=='null','Power']=np.nan\n",
    "power=test['Power'][test['Power'].isnull()==False].astype(float).values\n",
    "modePower=statistics.mode(power)\n",
    "sns.boxplot(power)\n",
    "test['Power'].fillna(modePower,inplace=True)\n",
    "print('Filling Null Values of Power with Mode : ',modePower)\n",
    "test['Power']=test['Power'].astype(float)\n",
    "test.isnull().sum()\n",
    "\n",
    "#Now No More Null Values ...."
   ]
  },
  {
   "cell_type": "markdown",
   "metadata": {},
   "source": [
    "**Predicting The Price column of TestData and Storing the Results**"
   ]
  },
  {
   "cell_type": "code",
   "execution_count": 43,
   "metadata": {},
   "outputs": [],
   "source": [
    "# Create a Pandas dataframe from the data.\n",
    "\n",
    "df = pd.DataFrame({'Data': [10, 20, 30, 20, 15, 30, 45]})\n",
    "predicted_val_on_test = xgb.predict(test)\n",
    "Outs = pd.Series(predicted_val_on_test,name='Price predicted')\n",
    "\n",
    "# Create a Pandas Excel writer using XlsxWriter as the engine.\n",
    "writer = pd.ExcelWriter('Predicted values of data test.xlsx', engine='xlsxwriter')\n",
    "\n",
    "# Convert the dataframe to an XlsxWriter Excel object.\n",
    "Outs.to_excel(writer, sheet_name='Sheet1')\n",
    "\n",
    "# Close the Pandas Excel writer and output the Excel file.\n",
    "writer.save()"
   ]
  },
  {
   "cell_type": "markdown",
   "metadata": {},
   "source": [
    "**We used xgboost model as it gave the best r2 score**"
   ]
  },
  {
   "cell_type": "code",
   "execution_count": 44,
   "metadata": {},
   "outputs": [
    {
     "name": "stdout",
     "output_type": "stream",
     "text": [
      "0        4.420582\n",
      "1        4.960382\n",
      "2       18.433363\n",
      "3        3.214911\n",
      "4        3.968886\n",
      "          ...    \n",
      "1229     3.848814\n",
      "1230     4.479559\n",
      "1231     7.204621\n",
      "1232     3.975095\n",
      "1233    18.937511\n",
      "Name: Price predicted, Length: 1234, dtype: float32\n"
     ]
    }
   ],
   "source": [
    "print(Outs)"
   ]
  },
  {
   "cell_type": "markdown",
   "metadata": {},
   "source": [
    "**Above was the output for data test file and it was saved in \"Predicted values of data test.xlsx\"**"
   ]
  }
 ],
 "metadata": {
  "kernelspec": {
   "display_name": "Python 3",
   "language": "python",
   "name": "python3"
  },
  "language_info": {
   "codemirror_mode": {
    "name": "ipython",
    "version": 3
   },
   "file_extension": ".py",
   "mimetype": "text/x-python",
   "name": "python",
   "nbconvert_exporter": "python",
   "pygments_lexer": "ipython3",
   "version": "3.7.6"
  },
  "widgets": {
   "application/vnd.jupyter.widget-state+json": {
    "state": {},
    "version_major": 2,
    "version_minor": 0
   }
  }
 },
 "nbformat": 4,
 "nbformat_minor": 4
}
